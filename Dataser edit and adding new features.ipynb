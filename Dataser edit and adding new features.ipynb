{
 "cells": [
  {
   "cell_type": "code",
   "execution_count": 5,
   "id": "5d67cb3e",
   "metadata": {},
   "outputs": [],
   "source": [
    "import numpy as np\n",
    "import pandas as pd\n",
    "\n",
    "df =pd.read_csv(r\"C:\\Users\\Samraat\\Downloads\\archive\\filtered dataset4.csv\")\n",
    "\n",
    "new_feature = np.random.randint(low=1, high=5, size=len(df))\n",
    "\n",
    "df['AssnDays'] = new_feature\n",
    "\n",
    "df.to_csv('C:/Users/Samraat/Downloads/archive/new_dataset.csv', index=7)"
   ]
  },
  {
   "cell_type": "code",
   "execution_count": 7,
   "id": "ae94969d",
   "metadata": {},
   "outputs": [],
   "source": [
    "import numpy as np\n",
    "import pandas as pd\n",
    "\n",
    "df = pd.read_csv(r'C:\\Users\\Samraat\\Downloads\\archive\\filtered dataset4.csv')\n",
    "\n",
    "feature2_mean = np.mean(df['raisedhands'])\n",
    "\n",
    "new_feature = np.where(df['raisedhands'] > feature2_mean, np.random.randint(3, 5, len(df)), np.random.randint(1, 3, len(df)))\n",
    "\n",
    "df['AssnDays'] = new_feature\n",
    "\n",
    "df.to_csv('C:/Users/Samraat/Downloads/archive/new_dataset1.csv', index=7)\n"
   ]
  },
  {
   "cell_type": "code",
   "execution_count": 9,
   "id": "8d2db34c",
   "metadata": {},
   "outputs": [],
   "source": [
    "import numpy as np\n",
    "import pandas as pd\n",
    "\n",
    "df = pd.read_csv(r'C:\\Users\\Samraat\\Downloads\\archive\\filtered dataset4.csv')\n",
    "\n",
    "feature2_mean = np.mean(df['raisedhands'])\n",
    "\n",
    "new_feature = np.where(df['raisedhands'] > feature2_mean, np.random.randint(1, 3, len(df)), np.random.randint(3, 5, len(df)))\n",
    "\n",
    "df['AssnDays'] = new_feature\n",
    "\n",
    "df.to_csv('C:/Users/Samraat/Downloads/archive/new_dataset2.csv', index=7)\n"
   ]
  },
  {
   "cell_type": "code",
   "execution_count": null,
   "id": "640d32bc",
   "metadata": {},
   "outputs": [],
   "source": []
  }
 ],
 "metadata": {
  "kernelspec": {
   "display_name": "Python 3 (ipykernel)",
   "language": "python",
   "name": "python3"
  },
  "language_info": {
   "codemirror_mode": {
    "name": "ipython",
    "version": 3
   },
   "file_extension": ".py",
   "mimetype": "text/x-python",
   "name": "python",
   "nbconvert_exporter": "python",
   "pygments_lexer": "ipython3",
   "version": "3.9.13"
  }
 },
 "nbformat": 4,
 "nbformat_minor": 5
}
